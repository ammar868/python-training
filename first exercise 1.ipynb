{
 "cells": [
  {
   "cell_type": "markdown",
   "metadata": {},
   "source": [
    "<div style=\"display: flex; align-items: center;\">\n",
    "    <img src=\"../img/es_logo.png\" alt=\"title\" style=\"margin-right: 20px;\">\n",
    "    <h1>Python Syntax and Data Types</h1>\n",
    "</div>"
   ]
  },
  {
   "cell_type": "markdown",
   "metadata": {},
   "source": [
    "Complete the code to print out Hello Python! in a formatted string.\n"
   ]
  },
  {
   "cell_type": "code",
   "execution_count": 9,
   "metadata": {},
   "outputs": [
    {
     "name": "stdout",
     "output_type": "stream",
     "text": [
      "Hello Python!\n"
     ]
    }
   ],
   "source": [
    "message = \"Python\"\n",
    "Greeting = f\"Hello {message}!\" \n",
    "print(Greeting)"
   ]
  },
  {
   "cell_type": "markdown",
   "metadata": {},
   "source": [
    "Correct the following code to:\n",
    "1. Perform the arithmetic operation on a and b.\n",
    "2. Perform concatenation on a and b."
   ]
  },
  {
   "cell_type": "code",
   "execution_count": 2,
   "metadata": {},
   "outputs": [
    {
     "name": "stdout",
     "output_type": "stream",
     "text": [
      "15\n",
      "510\n"
     ]
    }
   ],
   "source": [
    "a = 5\n",
    "b = \"10\"\n",
    "\n",
    "# perform addition expected output is 15\n",
    "addition = int(a) + int(b)\n",
    "print(addition)\n",
    "\n",
    "# perform concatenation expected output is 510\n",
    "concatenation = str(a) + str(b)\n",
    "print(concatenation)"
   ]
  },
  {
   "cell_type": "markdown",
   "metadata": {},
   "source": [
    "Complete the code to extract and print out the domain name from the email address."
   ]
  },
  {
   "cell_type": "code",
   "execution_count": 3,
   "metadata": {},
   "outputs": [
    {
     "name": "stdout",
     "output_type": "stream",
     "text": [
      "@estarta.com\n"
     ]
    }
   ],
   "source": [
    "email = \"python_dev@estarta.com\"\n",
    "\n",
    "# extract domain from email\n",
    "domain = email[10:]\n",
    "print(domain)"
   ]
  },
  {
   "cell_type": "markdown",
   "metadata": {},
   "source": [
    "Perform the following operations on the \"Cars\" list:\n",
    "1. Add \"Honda\" to the list.\n",
    "2. Replace the second element with \"Ford\".\n",
    "3. Remove \"Toyota\" from the list.\n",
    "4. Check if \"Subaru\" is in the list."
   ]
  },
  {
   "cell_type": "code",
   "execution_count": 5,
   "metadata": {},
   "outputs": [
    {
     "name": "stdout",
     "output_type": "stream",
     "text": [
      "['Ford ', 'BMW', 'Jeep', 'Honda']\n",
      "False\n"
     ]
    }
   ],
   "source": [
    "cars = [\"Toyota\", \"Mercedes\", \"BMW\", \"Jeep\"]\n",
    "\n",
    "# add \"Honda\" to the list\n",
    "\n",
    "cars.append(\"Honda\")\n",
    "# replace the second element with \"Ford\"\n",
    "cars[1] = \"Ford \"\n",
    "\n",
    "# remove Toyota from the list\n",
    "\n",
    "del cars[0]\n",
    "\n",
    "print(cars)\n",
    "\n",
    "# print True if Subaru is in the list else False\n",
    "\n",
    "print(\"Subaru\" in cars)\n"
   ]
  },
  {
   "cell_type": "markdown",
   "metadata": {},
   "source": [
    "Complete the code to do the following:\n",
    "1. Create a new dictionary with the following key-value pairs: \"name\": \"Ahmad\", \"age\": 25, \"occupation\": \"doctor\", \"country\": \"Jordan\"\n",
    "2. Add a new key-value pair with \"city\": \"Amman\"\n",
    "3. Update the occupation to \"Surgeon\"\n",
    "4. Remove the \"country\" key-value pair from the dictionary.\n",
    "5. print out the updated dictionary."
   ]
  },
  {
   "cell_type": "code",
   "execution_count": 6,
   "metadata": {},
   "outputs": [
    {
     "name": "stdout",
     "output_type": "stream",
     "text": [
      "{'name': 'Ahmad', 'age': 25, 'occupation': 'Surgeon', 'city': 'Amman'}\n"
     ]
    }
   ],
   "source": [
    "# complete the code to perform the operations listed above\n",
    "person = {\"name\": \"Ahmad\", \"age\": 25, \"occupation\": \"doctor\", \"country\": \"Jordan\"}\n",
    "\n",
    "person[\"city\"] = \"Amman\"\n",
    "person[\"occupation\"] = \"Surgeon\"\n",
    "del person[\"country\"]\n",
    "\n",
    "print(person)"
   ]
  },
  {
   "cell_type": "markdown",
   "metadata": {},
   "source": [
    "Complete the folowing opertasions on the \"numbers\" set:\n",
    "1. Check if 4 is in the set.\n",
    "2. Add 5 to the set.\n",
    "3. Remove 3 from the set.\n",
    "4. Try to add a duplicate element to the set.\n",
    "5. Create a new set that contains numbers from in the range of m+1 to m+10, where m is the maximum number in the \"numbers\" set.\n",
    "6. Create a set that is the union of the two sets."
   ]
  },
  {
   "cell_type": "code",
   "execution_count": 23,
   "metadata": {},
   "outputs": [
    {
     "name": "stdout",
     "output_type": "stream",
     "text": [
      "False\n",
      "16\n",
      "{17, 18, 19, 20, 21, 22, 23, 24, 25}\n",
      "{1, 2, 5, 7, 8, 9, 16}\n",
      "{1, 2, 5, 7, 8, 9, 16, 17, 18, 19, 20, 21, 22, 23, 24, 25}\n"
     ]
    }
   ],
   "source": [
    "numbers = {2, 5, 16, 8, 7, 9, 3, 1}\n",
    "\n",
    "# your code here\n",
    "\n",
    "#check if 4 is is the set\n",
    "print(4 in numbers)\n",
    "\n",
    "# add 5 to the set and try to duplicate element to the set\n",
    "numbers.add(5)\n",
    "numbers.add(8)\n",
    "#remove 3 \n",
    "numbers.remove(3)\n",
    "\n",
    "#Create a new set that contains numbers from in the range of m+1 to m+10, where m is the maximum number in the \"numbers\" set.\n",
    "\n",
    "maxn = max(numbers)\n",
    "print(maxn)\n",
    "newset = {i for i in range(maxn+1 , maxn+10)}\n",
    "\n",
    "#print(new_set)\n",
    "print(newset)\n",
    "print(numbers)\n",
    "# print the union of the two sets\n",
    "unionset = numbers.union(newset)\n",
    "print(unionset)"
   ]
  },
  {
   "cell_type": "code",
   "execution_count": null,
   "metadata": {},
   "outputs": [],
   "source": []
  }
 ],
 "metadata": {
  "kernelspec": {
   "display_name": "Python 3",
   "language": "python",
   "name": "python3"
  },
  "language_info": {
   "codemirror_mode": {
    "name": "ipython",
    "version": 3
   },
   "file_extension": ".py",
   "mimetype": "text/x-python",
   "name": "python",
   "nbconvert_exporter": "python",
   "pygments_lexer": "ipython3",
   "version": "3.12.3"
  }
 },
 "nbformat": 4,
 "nbformat_minor": 2
}

{
 "cells": [
  {
   "cell_type": "markdown",
   "metadata": {},
   "source": [
    "<div style=\"display: flex; align-items: center;\">\n",
    "    <img src=\"../img/es_logo.png\" alt=\"title\" style=\"margin-right: 20px;\">\n",
    "    <h1>Control Structures, Functions and Modules</h1>\n",
    "</div>"
   ]
  },
  {
   "cell_type": "markdown",
   "metadata": {},
   "source": [
    "#### Excercise 1:\n",
    "Write a Python function that takes two integers as input, and then prints the sum, difference, and product of the two numbers."
   ]
  },
  {
   "cell_type": "code",
   "execution_count": 2,
   "metadata": {},
   "outputs": [
    {
     "name": "stdout",
     "output_type": "stream",
     "text": [
      "sum: 12\n",
      "differance: -6\n",
      "product: 27\n"
     ]
    }
   ],
   "source": [
    "def calculate(int1: int, int2: int):\n",
    "    suma = int1 + int2\n",
    "    diff = int1 - int2\n",
    "    product = int1 * int2\n",
    "    \n",
    "    print(f\"sum: {suma}\")\n",
    "    print(f\"differance: {diff}\")\n",
    "    print(f\"product: {product}\")\n",
    "\n",
    "\n",
    "calculate(3,9)"
   ]
  },
  {
   "cell_type": "markdown",
   "metadata": {},
   "source": [
    "#### Excercise 2:\n",
    "Write a program that prints the numbers from 1 to 50. For multiples of three, print \"Fizz\" instead of the number, and for multiples of five, print \"Buzz\". For numbers that are multiples of both three and five, print \"FizzBuzz\".\n",
    "\n",
    "The solution to this problem should be uploaded within a file fizzbuzz.py"
   ]
  },
  {
   "cell_type": "markdown",
   "metadata": {},
   "source": [
    "#### Excercise 3:\n",
    "Create a Python module, called \"factorial\", that contains two functions. The first function `factorial(n: int) -> int` should return the factorial of the number n. The second function `list_factorial([n1, n2, n3, ...]) -> List[int]` should return a list of factorials of the numbers in the input list."
   ]
  },
  {
   "cell_type": "code",
   "execution_count": 3,
   "metadata": {},
   "outputs": [
    {
     "ename": "ImportError",
     "evalue": "cannot import name 'factorial' from 'factorial' (c:\\Users\\amesmar\\OneDrive - Cisco\\Desktop\\automation traning\\python\\python_training_1-main\\factorial.py)",
     "output_type": "error",
     "traceback": [
      "\u001b[1;31m---------------------------------------------------------------------------\u001b[0m",
      "\u001b[1;31mImportError\u001b[0m                               Traceback (most recent call last)",
      "Cell \u001b[1;32mIn[3], line 1\u001b[0m\n\u001b[1;32m----> 1\u001b[0m \u001b[38;5;28;01mfrom\u001b[39;00m \u001b[38;5;21;01mfactorial\u001b[39;00m \u001b[38;5;28;01mimport\u001b[39;00m factorial, list_factorial\n\u001b[0;32m      3\u001b[0m \u001b[38;5;28mprint\u001b[39m(factorial(\u001b[38;5;241m5\u001b[39m))\n\u001b[0;32m      5\u001b[0m \u001b[38;5;28mprint\u001b[39m(list_factorial([\u001b[38;5;241m1\u001b[39m,\u001b[38;5;241m2\u001b[39m,\u001b[38;5;241m3\u001b[39m,\u001b[38;5;241m4\u001b[39m,\u001b[38;5;241m5\u001b[39m]))\n",
      "\u001b[1;31mImportError\u001b[0m: cannot import name 'factorial' from 'factorial' (c:\\Users\\amesmar\\OneDrive - Cisco\\Desktop\\automation traning\\python\\python_training_1-main\\factorial.py)"
     ]
    }
   ],
   "source": [
    "from factorial import factorial, list_factorial\n",
    "\n",
    "print(factorial(5))\n",
    "\n",
    "print(list_factorial([1,2,3,4,5]))"
   ]
  },
  {
   "cell_type": "markdown",
   "metadata": {},
   "source": [
    "#### Excercise 4:\n",
    "Write a function that takes a number as input and returns True if the number is prime, and False otherwise. A prime number is a number greater than 1 that has no positive divisors other than 1 and itself."
   ]
  },
  {
   "cell_type": "code",
   "execution_count": 4,
   "metadata": {},
   "outputs": [
    {
     "name": "stdout",
     "output_type": "stream",
     "text": [
      "True\n",
      "False\n"
     ]
    }
   ],
   "source": [
    "def is_prime(n: int):\n",
    "    if n <= 1:\n",
    "        return False\n",
    "    if n == 2:\n",
    "        return True\n",
    "    if n % 2 == 0:\n",
    "        return False\n",
    "    for i in range(3 , n//2+ 1):\n",
    "        if n % i ==0: \n",
    "            return False\n",
    "    return True\n",
    "\n",
    "print(is_prime(7))\n",
    "print(is_prime(8))"
   ]
  },
  {
   "cell_type": "markdown",
   "metadata": {},
   "source": [
    "#### Excercise 5:\n",
    "Create a Python module named \"math_utils.py\" that contains the following functions:\n",
    "- `add` - returns the sum of two numbers\n",
    "- `sub` - returns the difference between two numbers\n",
    "- `mul` - returns the product of two numbers\n",
    "- `div` - returns the division of two numbers"
   ]
  },
  {
   "cell_type": "code",
   "execution_count": 5,
   "metadata": {},
   "outputs": [
    {
     "ename": "AttributeError",
     "evalue": "module 'math_utils' has no attribute 'add'",
     "output_type": "error",
     "traceback": [
      "\u001b[1;31m---------------------------------------------------------------------------\u001b[0m",
      "\u001b[1;31mAttributeError\u001b[0m                            Traceback (most recent call last)",
      "Cell \u001b[1;32mIn[5], line 6\u001b[0m\n\u001b[0;32m      3\u001b[0m a \u001b[38;5;241m=\u001b[39m \u001b[38;5;241m10\u001b[39m\n\u001b[0;32m      4\u001b[0m b \u001b[38;5;241m=\u001b[39m \u001b[38;5;241m5\u001b[39m\n\u001b[1;32m----> 6\u001b[0m \u001b[38;5;28mprint\u001b[39m(\u001b[38;5;124mf\u001b[39m\u001b[38;5;124m\"\u001b[39m\u001b[38;5;124mAddition: \u001b[39m\u001b[38;5;132;01m{\u001b[39;00m\u001b[43mmath_utils\u001b[49m\u001b[38;5;241;43m.\u001b[39;49m\u001b[43madd\u001b[49m(a,\u001b[38;5;250m \u001b[39mb)\u001b[38;5;132;01m}\u001b[39;00m\u001b[38;5;124m\"\u001b[39m)        \n\u001b[0;32m      7\u001b[0m \u001b[38;5;28mprint\u001b[39m(\u001b[38;5;124mf\u001b[39m\u001b[38;5;124m\"\u001b[39m\u001b[38;5;124mSubtraction: \u001b[39m\u001b[38;5;132;01m{\u001b[39;00mmath_utils\u001b[38;5;241m.\u001b[39msubtract(a,\u001b[38;5;250m \u001b[39mb)\u001b[38;5;132;01m}\u001b[39;00m\u001b[38;5;124m\"\u001b[39m)  \n\u001b[0;32m      8\u001b[0m \u001b[38;5;28mprint\u001b[39m(\u001b[38;5;124mf\u001b[39m\u001b[38;5;124m\"\u001b[39m\u001b[38;5;124mMultiplication: \u001b[39m\u001b[38;5;132;01m{\u001b[39;00mmath_utils\u001b[38;5;241m.\u001b[39mmultiply(a,\u001b[38;5;250m \u001b[39mb)\u001b[38;5;132;01m}\u001b[39;00m\u001b[38;5;124m\"\u001b[39m)  \n",
      "\u001b[1;31mAttributeError\u001b[0m: module 'math_utils' has no attribute 'add'"
     ]
    }
   ],
   "source": [
    "import math_utils\n",
    "\n",
    "a = 10\n",
    "b = 5\n",
    "\n",
    "print(f\"Addition: {math_utils.add(a, b)}\")        \n",
    "print(f\"Subtraction: {math_utils.subtract(a, b)}\")  \n",
    "print(f\"Multiplication: {math_utils.multiply(a, b)}\")  \n",
    "print(f\"Division: {math_utils.divide(a, b)}\")      "
   ]
  },
  {
   "cell_type": "markdown",
   "metadata": {},
   "source": [
    "#### Excercise 6:\n",
    "Write a Python program that prompts the user to enter a number, and then prints the number of prime numbers that exist up to the number that was entered.\n",
    "\n",
    "The solution to this problem should be uploaded within a file prime_numbers.py"
   ]
  }
 ],
 "metadata": {
  "kernelspec": {
   "display_name": "Python 3",
   "language": "python",
   "name": "python3"
  },
  "language_info": {
   "codemirror_mode": {
    "name": "ipython",
    "version": 3
   },
   "file_extension": ".py",
   "mimetype": "text/x-python",
   "name": "python",
   "nbconvert_exporter": "python",
   "pygments_lexer": "ipython3",
   "version": "3.12.3"
  }
 },
 "nbformat": 4,
 "nbformat_minor": 2
}

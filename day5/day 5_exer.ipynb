{
 "cells": [
  {
   "cell_type": "markdown",
   "metadata": {},
   "source": [
    "<div style=\"display: flex; align-items: center;\">\n",
    "    <img src=\"../img/es_logo.png\" alt=\"title\" style=\"margin-right: 20px;\">\n",
    "    <h1>Data Structures</h1>\n",
    "</div>"
   ]
  },
  {
   "cell_type": "markdown",
   "metadata": {},
   "source": [
    "#### Exercise 1:\n",
    "For the linked list implementation provided in the notebook, implement a `has_cycle` method that returns `True` if a cycle is present in a linked list, otherwise `False`.\n",
    "\n",
    "you will need to use two pointers to solve this problem. Initialize both `p1` and `p2` to the head of the linked list, then move `p1` by one and `p2` by two. If the linked list has a cycle, then `p1` and `p2` will be equal at some point. If no cycle is present, then `p2` will reach the end of the linked list."
   ]
  },
  {
   "cell_type": "code",
   "execution_count": 11,
   "metadata": {},
   "outputs": [
    {
     "name": "stdout",
     "output_type": "stream",
     "text": [
      "True\n",
      "False\n"
     ]
    }
   ],
   "source": [
    "class Node:\n",
    "    def __init__(self, value, next=None):\n",
    "        self.value = value\n",
    "        self.next = next\n",
    "\n",
    "class LinkedList:\n",
    "    def __init__(self):\n",
    "        self.head = None\n",
    "\n",
    "    def append(self, value):\n",
    "        if not self.head:\n",
    "            self.head = Node(value)\n",
    "        else:\n",
    "            current = self.head\n",
    "            while current.next:\n",
    "                current = current.next\n",
    "            current.next = Node(value)\n",
    "\n",
    "    def has_cycle(self):\n",
    "        p1 = self.head\n",
    "        p2 = self.head\n",
    "\n",
    "        while p2 and p2.next:\n",
    "            p1 = p1.next\n",
    "            p2 = p2.next.next\n",
    "\n",
    "            if p1 == p2:\n",
    "                return True\n",
    "\n",
    "        return False\n",
    "\n",
    "\n",
    "ll = LinkedList()\n",
    "\n",
    "\n",
    "ll.append(1)\n",
    "ll.append(2)\n",
    "ll.append(3)\n",
    "ll.append(4)\n",
    "ll.append(5)\n",
    "\n",
    "\n",
    "node1 = ll.head\n",
    "node2 = ll.head\n",
    "while node2.next:\n",
    "    node2 = node2.next\n",
    "node2.next = node1.next.next  \n",
    "\n",
    "\n",
    "print(ll.has_cycle())  \n",
    "\n",
    "\n",
    "ll2 = LinkedList()\n",
    "ll2.append(1)\n",
    "ll2.append(2)\n",
    "ll2.append(3)\n",
    "ll2.append(4)\n",
    "ll2.append(5)\n",
    "\n",
    "\n",
    "print(ll2.has_cycle())  \n",
    "  \n",
    "\n",
    "      "
   ]
  },
  {
   "cell_type": "markdown",
   "metadata": {},
   "source": [
    "#### Exercise 2:\n",
    "Implement the following methods for the doubly linked list:\n",
    "* `prepend(value)`: Add a node to the beginning of the list.\n",
    "* `delete(value)`: Delete the first node with the specified value.\n",
    "* `reverse()`: Reverse the list in-place."
   ]
  },
  {
   "cell_type": "code",
   "execution_count": 9,
   "metadata": {},
   "outputs": [
    {
     "name": "stdout",
     "output_type": "stream",
     "text": [
      "3 2 1 \n",
      "3 1 \n",
      "1 3 \n"
     ]
    }
   ],
   "source": [
    "class Node:\n",
    "    def __init__(self, value):\n",
    "        self.value = value\n",
    "        self.prev = None\n",
    "        self.next = None\n",
    "\n",
    "class DoublyLinkedList:\n",
    "    def __init__(self):\n",
    "        self.head = None\n",
    "        self.tail = None\n",
    "\n",
    "    def prepend(self, value):\n",
    "        \"\"\"Add a node to the beginning of the list.\"\"\"\n",
    "        new_node = Node(value)\n",
    "        if self.head is None:\n",
    "            self.head = new_node\n",
    "            self.tail = new_node\n",
    "        else:\n",
    "            new_node.next = self.head\n",
    "            self.head.prev = new_node\n",
    "            self.head = new_node\n",
    "\n",
    "    def delete(self, value):\n",
    "        \"\"\"Delete the first node with the specified value.\"\"\"\n",
    "        current = self.head\n",
    "        while current:\n",
    "            if current.value == value:\n",
    "                if current.prev:\n",
    "                    current.prev.next = current.next\n",
    "                else:\n",
    "                    self.head = current.next\n",
    "                if current.next:\n",
    "                    current.next.prev = current.prev\n",
    "                else:\n",
    "                    self.tail = current.prev\n",
    "                return\n",
    "            current = current.next\n",
    "\n",
    "    def reverse(self):\n",
    "        \"\"\"Reverse the list in-place.\"\"\"\n",
    "        current = self.head\n",
    "        previous = None\n",
    "        while current:\n",
    "            next_node = current.next\n",
    "            current.next = previous\n",
    "            current.prev = next_node\n",
    "            previous = current\n",
    "            current = next_node\n",
    "        self.head, self.tail = self.tail, self.head\n",
    "\n",
    "    def print_list(self):\n",
    "        \"\"\"Print the values in the list.\"\"\"\n",
    "        current = self.head\n",
    "        while current:\n",
    "            print(current.value, end=\" \")\n",
    "            current = current.next\n",
    "        print()\n",
    "\n",
    "\n",
    "dll = DoublyLinkedList()\n",
    "dll.prepend(1)\n",
    "dll.prepend(2)\n",
    "dll.prepend(3)\n",
    "dll.print_list()  \n",
    "dll.delete(2)\n",
    "dll.print_list()  \n",
    "dll.reverse()\n",
    "dll.print_list()  "
   ]
  },
  {
   "cell_type": "markdown",
   "metadata": {},
   "source": [
    "#### Exercise 3:\n",
    "Implement the `postorder_traversal` method for the binary tree implementation provided in the notebook. The method should return a list of node values resulting from a postorder traversal."
   ]
  },
  {
   "cell_type": "code",
   "execution_count": 10,
   "metadata": {},
   "outputs": [
    {
     "name": "stdout",
     "output_type": "stream",
     "text": [
      "Postorder traversal: 4 5 2 3 1 \n"
     ]
    }
   ],
   "source": [
    "class Node:\n",
    "    def __init__(self, value):\n",
    "        self.value = value\n",
    "        self.left = None\n",
    "        self.right = None\n",
    "\n",
    "class BinaryTree:\n",
    "    def __init__(self, root):\n",
    "        self.root = Node(root)\n",
    "\n",
    "    def postorder_traversal(self, start, traversal):\n",
    "        \"\"\"Root -> Left -> Right\"\"\"\n",
    "        if start:\n",
    "            traversal = self.postorder_traversal(start.left, traversal)\n",
    "            traversal = self.postorder_traversal(start.right, traversal)\n",
    "            traversal += (str(start.value) + ' ')\n",
    "        return traversal\n",
    "\n",
    "    def print_tree(self, traversal_type):\n",
    "        if traversal_type == \"postorder\":\n",
    "            return self.postorder_traversal(self.root, \"\")\n",
    "        else:\n",
    "            print(\"Traversal type \" + str(traversal_type) + \" is not supported.\")\n",
    "            return False\n",
    "\n",
    "\n",
    "tree = BinaryTree(1)\n",
    "tree.root.left = Node(2)\n",
    "tree.root.right = Node(3)\n",
    "tree.root.left.left = Node(4)\n",
    "tree.root.left.right = Node(5)\n",
    "\n",
    "print(\"Postorder traversal: \" + tree.print_tree(\"postorder\"))  "
   ]
  }
 ],
 "metadata": {
  "kernelspec": {
   "display_name": "Python 3",
   "language": "python",
   "name": "python3"
  },
  "language_info": {
   "codemirror_mode": {
    "name": "ipython",
    "version": 3
   },
   "file_extension": ".py",
   "mimetype": "text/x-python",
   "name": "python",
   "nbconvert_exporter": "python",
   "pygments_lexer": "ipython3",
   "version": "3.12.3"
  }
 },
 "nbformat": 4,
 "nbformat_minor": 2
}
